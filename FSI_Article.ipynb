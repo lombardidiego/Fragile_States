{
 "cells": [
  {
   "cell_type": "code",
   "execution_count": 1,
   "metadata": {},
   "outputs": [],
   "source": [
    "import pandas as pd\n",
    "import numpy as np\n",
    "import seaborn as sns\n",
    "\n",
    "import statsmodels as sm\n",
    "\n",
    "import matplotlib.pyplot as plt\n",
    "import plotly.offline as pyo\n",
    "import plotly.graph_objs as go\n",
    "import plotly.figure_factory as ff\n",
    "import plotly.express as px\n",
    "from plotly.subplots import make_subplots\n",
    "\n",
    "import matplotlib.path as mpath\n",
    "import matplotlib.lines as mlines\n",
    "import matplotlib.patches as mpatches\n",
    "from matplotlib.collections import PatchCollection\n",
    "\n",
    "import dash\n",
    "import dash_core_components as dcc\n",
    "import dash_html_components as html\n",
    "\n",
    "import json\n",
    "import os\n",
    "\n",
    "import folium\n",
    "from folium import IFrame\n",
    "\n",
    "pd.set_option('float_format', '{:,.2f}'.format)\n",
    "np.set_printoptions(precision=3)\n",
    "\n",
    "import warnings\n",
    "warnings.simplefilter(action='ignore', category=FutureWarning)"
   ]
  },
  {
   "cell_type": "code",
   "execution_count": 2,
   "metadata": {},
   "outputs": [],
   "source": [
    "from sklearn.metrics import mean_squared_error\n",
    "from sklearn.preprocessing import StandardScaler\n",
    "from sklearn.preprocessing import MinMaxScaler\n",
    "from sklearn.linear_model import LinearRegression\n",
    "\n",
    "from math import sqrt\n",
    "from statsmodels.tsa.api import ExponentialSmoothing, SimpleExpSmoothing, Holt\n",
    "import statsmodels.api as sm\n",
    "\n",
    "from sklearn.cluster import KMeans "
   ]
  },
  {
   "cell_type": "markdown",
   "metadata": {},
   "source": [
    "# Part 1: Preprocessing"
   ]
  },
  {
   "cell_type": "markdown",
   "metadata": {},
   "source": [
    "### FSI"
   ]
  },
  {
   "cell_type": "code",
   "execution_count": 3,
   "metadata": {},
   "outputs": [],
   "source": [
    "df_2019 = pd.read_excel('FSI_DATA/fsi-2019.xlsx')\n",
    "df_2018 = pd.read_excel('FSI_DATA/fsi-2018.xlsx')\n",
    "df_2017 = pd.read_excel('FSI_DATA/fsi-2017.xlsx')\n",
    "df_2016 = pd.read_excel('FSI_DATA/fsi-2016.xlsx')\n",
    "df_2015 = pd.read_excel('FSI_DATA/fsi-2015.xlsx')\n",
    "df_2014 = pd.read_excel('FSI_DATA/fsi-2014.xlsx')\n",
    "df_2013 = pd.read_excel('FSI_DATA/fsi-2013.xlsx')\n",
    "df_2012 = pd.read_excel('FSI_DATA/fsi-2012.xlsx')\n",
    "df_2011 = pd.read_excel('FSI_DATA/fsi-2011.xlsx')\n",
    "df_2010 = pd.read_excel('FSI_DATA/fsi-2010.xlsx')\n",
    "df_2009 = pd.read_excel('FSI_DATA/fsi-2009.xlsx')\n",
    "df_2008 = pd.read_excel('FSI_DATA/fsi-2008.xlsx')\n",
    "df_2007 = pd.read_excel('FSI_DATA/fsi-2007.xlsx')\n",
    "df_2006 = pd.read_excel('FSI_DATA/fsi-2006.xlsx')"
   ]
  },
  {
   "cell_type": "code",
   "execution_count": 4,
   "metadata": {},
   "outputs": [],
   "source": [
    "frames = [df_2006, df_2007, df_2008, df_2009, df_2010, df_2011, df_2012, df_2013,\n",
    "          df_2014, df_2015, df_2016, df_2017, df_2018, df_2019]\n",
    "\n",
    "df_fsi = pd.concat(frames, sort=False)\n",
    "\n",
    "df_fsi['Year'] = df_fsi['Year'].dt.to_period('Y')\n",
    "df_fsi['Year'] = df_fsi['Year'].astype(str)\n",
    "df_fsi['Year'] = pd.to_datetime(df_fsi['Year'], format='%Y')\n",
    "\n",
    "df_fsi.rename(columns={'Total':'FSI'}, inplace=True)"
   ]
  },
  {
   "cell_type": "markdown",
   "metadata": {},
   "source": [
    "### V-Dem"
   ]
  },
  {
   "cell_type": "code",
   "execution_count": 5,
   "metadata": {},
   "outputs": [
    {
     "name": "stderr",
     "output_type": "stream",
     "text": [
      "C:\\Users\\Diego\\Anaconda3\\lib\\site-packages\\IPython\\core\\interactiveshell.py:3057: DtypeWarning:\n",
      "\n",
      "Columns (507,509,510,793,794,1055,2791,3007,3008,3063,3065,3069,3070,3072,3073,3833,3834,3836) have mixed types. Specify dtype option on import or set low_memory=False.\n",
      "\n"
     ]
    }
   ],
   "source": [
    "df_vd = pd.read_csv('Data/V-Dem/V-Dem-CY-Full+Others.csv')"
   ]
  },
  {
   "cell_type": "code",
   "execution_count": 6,
   "metadata": {},
   "outputs": [],
   "source": [
    "df_vd = df_vd[['country_name', 'country_text_id', 'year',\n",
    "               'v2x_polyarchy', 'v2x_libdem', 'v2x_partipdem', 'v2x_delibdem', 'v2x_egaldem']]\n",
    "\n",
    "col = df_vd.loc[:, 'v2x_polyarchy':'v2x_egaldem']\n",
    "df_vd['VDem'] = col.mean(axis=1)\n",
    "\n",
    "df_vd['year'] = pd.to_datetime(df_vd['year'], format='%Y')\n",
    "\n",
    "df_vd = df_vd.rename(columns={'country_name':'Country', 'year':'Year'})"
   ]
  },
  {
   "cell_type": "markdown",
   "metadata": {},
   "source": [
    "### HDI"
   ]
  },
  {
   "cell_type": "code",
   "execution_count": 7,
   "metadata": {},
   "outputs": [],
   "source": [
    "df_hdi = pd.read_excel('Data/Human Development Index (HDI).xlsx')"
   ]
  },
  {
   "cell_type": "code",
   "execution_count": 8,
   "metadata": {},
   "outputs": [],
   "source": [
    "df_hdi = df_hdi.drop(['HDI Rank (2017)'], axis=1)\n",
    "df_hdi = df_hdi.set_index('Country')\n",
    "df_hdi = df_hdi.unstack().reset_index(level=0, drop=False)\n",
    "df_hdi = df_hdi.rename(columns={'level_0':'Year', 0:'HDI'}).reset_index()\n",
    "\n",
    "df_hdi['Country'] = df_hdi['Country'].replace({'Venezuela (Bolivarian Republic of)':'Venezuela',\n",
    "                                               'Bolivia (Plurinational State of)':'Bolivia'})\n",
    "\n",
    "df_hdi['Year'] = pd.to_datetime(df_hdi['Year'], format='%Y')"
   ]
  },
  {
   "cell_type": "markdown",
   "metadata": {},
   "source": [
    "### Merge"
   ]
  },
  {
   "cell_type": "code",
   "execution_count": 9,
   "metadata": {},
   "outputs": [],
   "source": [
    "df_1 = df_fsi.set_index(['Country', 'Year'])\n",
    "df_2 = df_vd.set_index(['Country', 'Year'])\n",
    "df_3 = df_hdi.set_index(['Country', 'Year'])\n",
    "\n",
    "df = df_1.merge(df_2, left_index=True, right_index=True)\n",
    "df = df.merge(df_3, left_index=True, right_index=True)\n",
    "df = df.reset_index()\n",
    "\n",
    "df['Year'] = pd.DatetimeIndex(df['Year']).year"
   ]
  },
  {
   "cell_type": "code",
   "execution_count": 10,
   "metadata": {},
   "outputs": [],
   "source": [
    "df = df[['Country', 'Year', 'FSI', 'C1: Security Apparatus',\n",
    "       'C2: Factionalized Elites', 'C3: Group Grievance', 'E1: Economy',\n",
    "       'E2: Economic Inequality', 'E3: Human Flight and Brain Drain',\n",
    "       'P1: State Legitimacy', 'P2: Public Services', 'P3: Human Rights',\n",
    "       'S1: Demographic Pressures', 'S2: Refugees and IDPs',\n",
    "       'X1: External Intervention', 'v2x_polyarchy', 'v2x_libdem',\n",
    "       'v2x_partipdem', 'v2x_delibdem', 'v2x_egaldem', 'VDem', 'HDI']]\n",
    "\n",
    "df['HDI'] = pd.to_numeric(df['HDI'],errors='coerce')\n",
    "\n",
    "df = df.sort_values(by=['Country', 'Year'])"
   ]
  },
  {
   "cell_type": "markdown",
   "metadata": {},
   "source": [
    "### G.1: HDI (selected countries)"
   ]
  },
  {
   "cell_type": "code",
   "execution_count": 11,
   "metadata": {},
   "outputs": [],
   "source": [
    "countries = ['Argentina', 'Bolivia', 'Brazil', 'Canada', 'Chile', \n",
    "             'Colombia', 'Ecuador', 'Paraguay', 'Peru', 'Uruguay', 'Venezuela']"
   ]
  },
  {
   "cell_type": "code",
   "execution_count": 12,
   "metadata": {},
   "outputs": [
    {
     "data": {
      "text/html": [
       "<div>\n",
       "<style scoped>\n",
       "    .dataframe tbody tr th:only-of-type {\n",
       "        vertical-align: middle;\n",
       "    }\n",
       "\n",
       "    .dataframe tbody tr th {\n",
       "        vertical-align: top;\n",
       "    }\n",
       "\n",
       "    .dataframe thead th {\n",
       "        text-align: right;\n",
       "    }\n",
       "</style>\n",
       "<table border=\"1\" class=\"dataframe\">\n",
       "  <thead>\n",
       "    <tr style=\"text-align: right;\">\n",
       "      <th></th>\n",
       "      <th>Country</th>\n",
       "      <th>Year</th>\n",
       "      <th>FSI</th>\n",
       "      <th>VDem</th>\n",
       "      <th>HDI</th>\n",
       "    </tr>\n",
       "  </thead>\n",
       "  <tbody>\n",
       "    <tr>\n",
       "      <th>1214</th>\n",
       "      <td>Argentina</td>\n",
       "      <td>2006</td>\n",
       "      <td>40.80</td>\n",
       "      <td>0.66</td>\n",
       "      <td>0.79</td>\n",
       "    </tr>\n",
       "    <tr>\n",
       "      <th>592</th>\n",
       "      <td>Argentina</td>\n",
       "      <td>2007</td>\n",
       "      <td>41.40</td>\n",
       "      <td>0.64</td>\n",
       "      <td>0.79</td>\n",
       "    </tr>\n",
       "    <tr>\n",
       "      <th>975</th>\n",
       "      <td>Argentina</td>\n",
       "      <td>2008</td>\n",
       "      <td>41.40</td>\n",
       "      <td>0.61</td>\n",
       "      <td>0.80</td>\n",
       "    </tr>\n",
       "    <tr>\n",
       "      <th>1517</th>\n",
       "      <td>Argentina</td>\n",
       "      <td>2009</td>\n",
       "      <td>44.70</td>\n",
       "      <td>0.62</td>\n",
       "      <td>0.80</td>\n",
       "    </tr>\n",
       "    <tr>\n",
       "      <th>1204</th>\n",
       "      <td>Argentina</td>\n",
       "      <td>2010</td>\n",
       "      <td>45.80</td>\n",
       "      <td>0.60</td>\n",
       "      <td>0.81</td>\n",
       "    </tr>\n",
       "  </tbody>\n",
       "</table>\n",
       "</div>"
      ],
      "text/plain": [
       "        Country  Year   FSI  VDem  HDI\n",
       "1214  Argentina  2006 40.80  0.66 0.79\n",
       "592   Argentina  2007 41.40  0.64 0.79\n",
       "975   Argentina  2008 41.40  0.61 0.80\n",
       "1517  Argentina  2009 44.70  0.62 0.80\n",
       "1204  Argentina  2010 45.80  0.60 0.81"
      ]
     },
     "execution_count": 12,
     "metadata": {},
     "output_type": "execute_result"
    }
   ],
   "source": [
    "dff = df.loc[df['Country'].isin(countries)]\n",
    "dff = dff[['Country', 'Year', 'FSI', 'VDem', 'HDI']]\n",
    "dff.head()"
   ]
  },
  {
   "cell_type": "code",
   "execution_count": 13,
   "metadata": {},
   "outputs": [],
   "source": [
    "def f_HDI(countries):\n",
    "    \n",
    "    '''\n",
    "    With this function it is possible compare HDI between multiple countries\n",
    "    '''\n",
    "    \n",
    "    data = []\n",
    "    \n",
    "    for country in countries:\n",
    "        \n",
    "        dff_t = dff.loc[dff['Country']==country]\n",
    "        \n",
    "        trace1 = go.Scatter(x=dff_t['Year'],\n",
    "                            y=dff_t['HDI'],\n",
    "                          mode='lines',\n",
    "                          name=country)\n",
    "        \n",
    "        data.append(trace1)\n",
    "        \n",
    "    layout = go.Layout(title='HDI (selected countries)')\n",
    "\n",
    "    fig = go.Figure(data=data, layout=layout)\n",
    "        \n",
    "    return pyo.plot(fig)"
   ]
  },
  {
   "cell_type": "code",
   "execution_count": 14,
   "metadata": {},
   "outputs": [
    {
     "data": {
      "text/plain": [
       "'temp-plot.html'"
      ]
     },
     "execution_count": 14,
     "metadata": {},
     "output_type": "execute_result"
    }
   ],
   "source": [
    "f_HDI(countries)"
   ]
  },
  {
   "cell_type": "code",
   "execution_count": 15,
   "metadata": {},
   "outputs": [],
   "source": [
    "def f_HDI_var(countries):\n",
    "    \n",
    "    '''\n",
    "    With this function it is possible compare HDI between multiple countries\n",
    "    '''\n",
    "    \n",
    "    data = []\n",
    "    \n",
    "    for country in countries:\n",
    "        \n",
    "        dff_t = dff.loc[dff['Country']==country]\n",
    "        V1 = dff_t.iloc[0,4]\n",
    "        V2 = dff_t.iloc[-1,4]\n",
    "        R = np.around(((V2-V1)/V1)*100, decimals=2)\n",
    "        data.append([country, R])\n",
    "        Table = pd.DataFrame(data, columns=['Country', 'HDI Var(%)'])\n",
    "   \n",
    "    return Table.sort_values(by='HDI Var(%)', ascending=False).set_index('Country')"
   ]
  },
  {
   "cell_type": "code",
   "execution_count": 16,
   "metadata": {},
   "outputs": [
    {
     "data": {
      "text/html": [
       "<div>\n",
       "<style scoped>\n",
       "    .dataframe tbody tr th:only-of-type {\n",
       "        vertical-align: middle;\n",
       "    }\n",
       "\n",
       "    .dataframe tbody tr th {\n",
       "        vertical-align: top;\n",
       "    }\n",
       "\n",
       "    .dataframe thead th {\n",
       "        text-align: right;\n",
       "    }\n",
       "</style>\n",
       "<table border=\"1\" class=\"dataframe\">\n",
       "  <thead>\n",
       "    <tr style=\"text-align: right;\">\n",
       "      <th></th>\n",
       "      <th>HDI Var(%)</th>\n",
       "    </tr>\n",
       "    <tr>\n",
       "      <th>Country</th>\n",
       "      <th></th>\n",
       "    </tr>\n",
       "  </thead>\n",
       "  <tbody>\n",
       "    <tr>\n",
       "      <th>Bolivia</th>\n",
       "      <td>10.00</td>\n",
       "    </tr>\n",
       "    <tr>\n",
       "      <th>Paraguay</th>\n",
       "      <td>8.17</td>\n",
       "    </tr>\n",
       "    <tr>\n",
       "      <th>Brazil</th>\n",
       "      <td>8.12</td>\n",
       "    </tr>\n",
       "    <tr>\n",
       "      <th>Colombia</th>\n",
       "      <td>8.10</td>\n",
       "    </tr>\n",
       "    <tr>\n",
       "      <th>Ecuador</th>\n",
       "      <td>8.05</td>\n",
       "    </tr>\n",
       "    <tr>\n",
       "      <th>Peru</th>\n",
       "      <td>7.91</td>\n",
       "    </tr>\n",
       "    <tr>\n",
       "      <th>Chile</th>\n",
       "      <td>6.04</td>\n",
       "    </tr>\n",
       "    <tr>\n",
       "      <th>Uruguay</th>\n",
       "      <td>5.51</td>\n",
       "    </tr>\n",
       "    <tr>\n",
       "      <th>Argentina</th>\n",
       "      <td>4.83</td>\n",
       "    </tr>\n",
       "    <tr>\n",
       "      <th>Venezuela</th>\n",
       "      <td>4.68</td>\n",
       "    </tr>\n",
       "    <tr>\n",
       "      <th>Canada</th>\n",
       "      <td>3.23</td>\n",
       "    </tr>\n",
       "  </tbody>\n",
       "</table>\n",
       "</div>"
      ],
      "text/plain": [
       "           HDI Var(%)\n",
       "Country              \n",
       "Bolivia         10.00\n",
       "Paraguay         8.17\n",
       "Brazil           8.12\n",
       "Colombia         8.10\n",
       "Ecuador          8.05\n",
       "Peru             7.91\n",
       "Chile            6.04\n",
       "Uruguay          5.51\n",
       "Argentina        4.83\n",
       "Venezuela        4.68\n",
       "Canada           3.23"
      ]
     },
     "execution_count": 16,
     "metadata": {},
     "output_type": "execute_result"
    }
   ],
   "source": [
    "f_HDI_var(countries)"
   ]
  },
  {
   "cell_type": "markdown",
   "metadata": {},
   "source": [
    "### G2: Correlations"
   ]
  },
  {
   "cell_type": "code",
   "execution_count": 17,
   "metadata": {},
   "outputs": [
    {
     "data": {
      "text/html": [
       "<div>\n",
       "<style scoped>\n",
       "    .dataframe tbody tr th:only-of-type {\n",
       "        vertical-align: middle;\n",
       "    }\n",
       "\n",
       "    .dataframe tbody tr th {\n",
       "        vertical-align: top;\n",
       "    }\n",
       "\n",
       "    .dataframe thead th {\n",
       "        text-align: right;\n",
       "    }\n",
       "</style>\n",
       "<table border=\"1\" class=\"dataframe\">\n",
       "  <thead>\n",
       "    <tr style=\"text-align: right;\">\n",
       "      <th></th>\n",
       "      <th>FSI</th>\n",
       "      <th>VDem</th>\n",
       "      <th>HDI</th>\n",
       "    </tr>\n",
       "  </thead>\n",
       "  <tbody>\n",
       "    <tr>\n",
       "      <th>FSI</th>\n",
       "      <td>1.00</td>\n",
       "      <td>-0.73</td>\n",
       "      <td>-0.85</td>\n",
       "    </tr>\n",
       "    <tr>\n",
       "      <th>VDem</th>\n",
       "      <td>-0.73</td>\n",
       "      <td>1.00</td>\n",
       "      <td>0.55</td>\n",
       "    </tr>\n",
       "    <tr>\n",
       "      <th>HDI</th>\n",
       "      <td>-0.85</td>\n",
       "      <td>0.55</td>\n",
       "      <td>1.00</td>\n",
       "    </tr>\n",
       "  </tbody>\n",
       "</table>\n",
       "</div>"
      ],
      "text/plain": [
       "       FSI  VDem   HDI\n",
       "FSI   1.00 -0.73 -0.85\n",
       "VDem -0.73  1.00  0.55\n",
       "HDI  -0.85  0.55  1.00"
      ]
     },
     "execution_count": 17,
     "metadata": {},
     "output_type": "execute_result"
    }
   ],
   "source": [
    "df[['FSI', 'VDem', 'HDI']].corr()"
   ]
  },
  {
   "cell_type": "code",
   "execution_count": 18,
   "metadata": {},
   "outputs": [
    {
     "data": {
      "text/plain": [
       "'temp-plot.html'"
      ]
     },
     "execution_count": 18,
     "metadata": {},
     "output_type": "execute_result"
    }
   ],
   "source": [
    "w = df.query(\"Year==2017\")\n",
    "\n",
    "fig = make_subplots(rows=1, cols=2)\n",
    "\n",
    "fig.add_trace(\n",
    "    go.Scatter(x=w['FSI'], \n",
    "               y=w['HDI'],\n",
    "               mode='markers',\n",
    "               name='FSI'),\n",
    "    row=1, col=1\n",
    ")\n",
    "\n",
    "fig.add_trace(\n",
    "    go.Scatter(x=w['VDem'], \n",
    "               y=w['HDI'],\n",
    "               mode='markers',\n",
    "               name='VDem'),\n",
    "    row=1, col=2\n",
    ")\n",
    "\n",
    "fig.update_layout(title_text=\"Relación entre HDI/FSI y HDI/VDem\")\n",
    "pyo.plot(fig)"
   ]
  },
  {
   "cell_type": "markdown",
   "metadata": {},
   "source": [
    "### G3: Country Analysis"
   ]
  },
  {
   "cell_type": "code",
   "execution_count": 89,
   "metadata": {},
   "outputs": [
    {
     "data": {
      "text/html": [
       "<div>\n",
       "<style scoped>\n",
       "    .dataframe tbody tr th:only-of-type {\n",
       "        vertical-align: middle;\n",
       "    }\n",
       "\n",
       "    .dataframe tbody tr th {\n",
       "        vertical-align: top;\n",
       "    }\n",
       "\n",
       "    .dataframe thead th {\n",
       "        text-align: right;\n",
       "    }\n",
       "</style>\n",
       "<table border=\"1\" class=\"dataframe\">\n",
       "  <thead>\n",
       "    <tr style=\"text-align: right;\">\n",
       "      <th></th>\n",
       "      <th>Country</th>\n",
       "      <th>Year</th>\n",
       "      <th>FSI</th>\n",
       "      <th>HDI</th>\n",
       "      <th>VDem</th>\n",
       "    </tr>\n",
       "  </thead>\n",
       "  <tbody>\n",
       "    <tr>\n",
       "      <th>1214</th>\n",
       "      <td>Argentina</td>\n",
       "      <td>2006</td>\n",
       "      <td>0.00</td>\n",
       "      <td>0.00</td>\n",
       "      <td>1.00</td>\n",
       "    </tr>\n",
       "    <tr>\n",
       "      <th>592</th>\n",
       "      <td>Argentina</td>\n",
       "      <td>2007</td>\n",
       "      <td>0.08</td>\n",
       "      <td>0.13</td>\n",
       "      <td>0.63</td>\n",
       "    </tr>\n",
       "    <tr>\n",
       "      <th>975</th>\n",
       "      <td>Argentina</td>\n",
       "      <td>2008</td>\n",
       "      <td>0.08</td>\n",
       "      <td>0.21</td>\n",
       "      <td>0.18</td>\n",
       "    </tr>\n",
       "    <tr>\n",
       "      <th>1517</th>\n",
       "      <td>Argentina</td>\n",
       "      <td>2009</td>\n",
       "      <td>0.51</td>\n",
       "      <td>0.32</td>\n",
       "      <td>0.34</td>\n",
       "    </tr>\n",
       "    <tr>\n",
       "      <th>1204</th>\n",
       "      <td>Argentina</td>\n",
       "      <td>2010</td>\n",
       "      <td>0.66</td>\n",
       "      <td>0.68</td>\n",
       "      <td>0.02</td>\n",
       "    </tr>\n",
       "    <tr>\n",
       "      <th>1650</th>\n",
       "      <td>Argentina</td>\n",
       "      <td>2011</td>\n",
       "      <td>0.79</td>\n",
       "      <td>0.84</td>\n",
       "      <td>0.24</td>\n",
       "    </tr>\n",
       "    <tr>\n",
       "      <th>1179</th>\n",
       "      <td>Argentina</td>\n",
       "      <td>2012</td>\n",
       "      <td>0.75</td>\n",
       "      <td>0.82</td>\n",
       "      <td>0.49</td>\n",
       "    </tr>\n",
       "    <tr>\n",
       "      <th>426</th>\n",
       "      <td>Argentina</td>\n",
       "      <td>2013</td>\n",
       "      <td>0.70</td>\n",
       "      <td>0.87</td>\n",
       "      <td>0.00</td>\n",
       "    </tr>\n",
       "    <tr>\n",
       "      <th>582</th>\n",
       "      <td>Argentina</td>\n",
       "      <td>2014</td>\n",
       "      <td>0.86</td>\n",
       "      <td>0.87</td>\n",
       "      <td>0.21</td>\n",
       "    </tr>\n",
       "    <tr>\n",
       "      <th>155</th>\n",
       "      <td>Argentina</td>\n",
       "      <td>2015</td>\n",
       "      <td>0.89</td>\n",
       "      <td>0.92</td>\n",
       "      <td>0.32</td>\n",
       "    </tr>\n",
       "    <tr>\n",
       "      <th>135</th>\n",
       "      <td>Argentina</td>\n",
       "      <td>2016</td>\n",
       "      <td>1.00</td>\n",
       "      <td>0.92</td>\n",
       "      <td>0.60</td>\n",
       "    </tr>\n",
       "    <tr>\n",
       "      <th>1506</th>\n",
       "      <td>Argentina</td>\n",
       "      <td>2017</td>\n",
       "      <td>0.97</td>\n",
       "      <td>1.00</td>\n",
       "      <td>0.53</td>\n",
       "    </tr>\n",
       "  </tbody>\n",
       "</table>\n",
       "</div>"
      ],
      "text/plain": [
       "        Country  Year  FSI  HDI  VDem\n",
       "1214  Argentina  2006 0.00 0.00  1.00\n",
       "592   Argentina  2007 0.08 0.13  0.63\n",
       "975   Argentina  2008 0.08 0.21  0.18\n",
       "1517  Argentina  2009 0.51 0.32  0.34\n",
       "1204  Argentina  2010 0.66 0.68  0.02\n",
       "1650  Argentina  2011 0.79 0.84  0.24\n",
       "1179  Argentina  2012 0.75 0.82  0.49\n",
       "426   Argentina  2013 0.70 0.87  0.00\n",
       "582   Argentina  2014 0.86 0.87  0.21\n",
       "155   Argentina  2015 0.89 0.92  0.32\n",
       "135   Argentina  2016 1.00 0.92  0.60\n",
       "1506  Argentina  2017 0.97 1.00  0.53"
      ]
     },
     "execution_count": 89,
     "metadata": {},
     "output_type": "execute_result"
    }
   ],
   "source": [
    "country = 'Argentina'\n",
    "\n",
    "df_Normalize = df.loc[df['Country']==country]\n",
    "df_Normalize = df_Normalize[['Country', 'Year', 'FSI', 'HDI', 'VDem']]\n",
    "\n",
    "# Normalize the Data\n",
    "scaler = MinMaxScaler(feature_range=(0, 1))\n",
    "columns = ['FSI', 'HDI', 'VDem']\n",
    "df_Normalize[columns] = scaler.fit_transform(df_Normalize.loc[:, columns])\n",
    "\n",
    "df_Normalize[df_Normalize['Country']==country]"
   ]
  },
  {
   "cell_type": "code",
   "execution_count": 90,
   "metadata": {},
   "outputs": [],
   "source": [
    "def f_country_analysis(country):\n",
    "    \n",
    "    df_t = df.loc[df['Country']==country]\n",
    "    df_t = df_t[['Country', 'Year', 'FSI', 'HDI', 'VDem']]\n",
    "\n",
    "    # Normalize the Data\n",
    "    scaler = MinMaxScaler(feature_range=(0, 1))\n",
    "    columns = ['FSI', 'HDI', 'VDem']\n",
    "    df_t[columns] = scaler.fit_transform(df_t.loc[:, columns])\n",
    "\n",
    "    trace1 = go.Scatter(x=df_t['Year'],\n",
    "                        y=df_t['FSI'],\n",
    "                      mode='lines',\n",
    "                      name='FSI')\n",
    "\n",
    "    trace2 = go.Scatter(x=df_t['Year'],\n",
    "                        y=df_t['VDem'],\n",
    "                      mode='lines',\n",
    "                      name='VDem')\n",
    "\n",
    "    trace3 = go.Scatter(x=df_t['Year'],\n",
    "                        y=df_t['HDI'],\n",
    "                      mode='lines',\n",
    "                      name='HDI')\n",
    "\n",
    "    data = [trace1, trace2, trace3]\n",
    "\n",
    "    layout = go.Layout(title='Fragilidad del Estado, Calidad de la Democracia y Desarrollo Humano: {}'.format(country))\n",
    "\n",
    "    fig = go.Figure(data=data, layout=layout)\n",
    "\n",
    "    return pyo.plot(fig)"
   ]
  },
  {
   "cell_type": "code",
   "execution_count": 91,
   "metadata": {},
   "outputs": [
    {
     "data": {
      "text/plain": [
       "'temp-plot.html'"
      ]
     },
     "execution_count": 91,
     "metadata": {},
     "output_type": "execute_result"
    }
   ],
   "source": [
    "f_country_analysis('Argentina')"
   ]
  },
  {
   "cell_type": "markdown",
   "metadata": {},
   "source": [
    "### FSI analysis"
   ]
  },
  {
   "cell_type": "code",
   "execution_count": 42,
   "metadata": {},
   "outputs": [],
   "source": [
    "def f_country_fsi(country, initial_year, final_year):\n",
    "    dff = df[df['Country']==country]\n",
    "    dff = dff.loc[:,'Country':'X1: External Intervention']\n",
    "    dff = dff.drop(['Country', 'FSI'], axis=1)\n",
    "    dff['Year'] = pd.to_datetime(dff['Year'], format='%Y').dt.to_period('Y')\n",
    "    dff = dff.set_index('Year')\n",
    "    dff = dff[(dff.index >=initial_year) & (dff.index <= final_year)]\n",
    "    dff = dff.T\n",
    "    dff['VAR'] = ((dff[final_year] - dff[initial_year])/dff[initial_year])*100\n",
    "    #dff = dff.sort_values(by='VAR', ascending=False)\n",
    "    \n",
    "        \n",
    "    return dff"
   ]
  },
  {
   "cell_type": "code",
   "execution_count": 96,
   "metadata": {},
   "outputs": [],
   "source": [
    "radar_1 = f_country_fsi('Argentina', '2006', '2008')"
   ]
  },
  {
   "cell_type": "code",
   "execution_count": 97,
   "metadata": {},
   "outputs": [],
   "source": [
    "radar_2 = f_country_fsi('Argentina', '2008', '2017')"
   ]
  },
  {
   "cell_type": "code",
   "execution_count": 98,
   "metadata": {},
   "outputs": [],
   "source": [
    "# Normalize the Data\n",
    "scaler = MinMaxScaler(feature_range=(-1, 1))\n",
    "columns = ['VAR']\n",
    "radar_1[columns] = scaler.fit_transform(radar_1.loc[:,columns])\n",
    "radar_2[columns] = scaler.fit_transform(radar_2.loc[:,columns])"
   ]
  },
  {
   "cell_type": "code",
   "execution_count": 99,
   "metadata": {},
   "outputs": [
    {
     "data": {
      "text/plain": [
       "'temp-plot.html'"
      ]
     },
     "execution_count": 99,
     "metadata": {},
     "output_type": "execute_result"
    }
   ],
   "source": [
    "fig = go.Figure()\n",
    "\n",
    "fig.add_trace(go.Scatterpolar(\n",
    "      r=radar_1['VAR'],\n",
    "      theta=radar_1.index,\n",
    "      fill='toself',\n",
    "      name='2007 - 2012'\n",
    "))\n",
    "\n",
    "fig.add_trace(go.Scatterpolar(\n",
    "      r=radar_2['VAR'],\n",
    "      theta=radar_2.index,\n",
    "      fill='toself',\n",
    "      name='2012 - 2017'\n",
    "))\n",
    "\n",
    "\n",
    "fig.update_layout(\n",
    "  polar=dict(\n",
    "    radialaxis=dict(\n",
    "      visible=True,\n",
    "      range=[-1, 1]\n",
    "    )),\n",
    "  showlegend=True, legend=dict(x=0.75, y=-0.1)\n",
    ")\n",
    "\n",
    "\n",
    "pyo.plot(fig)"
   ]
  },
  {
   "cell_type": "markdown",
   "metadata": {},
   "source": [
    "### Democracy analysis"
   ]
  },
  {
   "cell_type": "code",
   "execution_count": 66,
   "metadata": {},
   "outputs": [],
   "source": [
    "def f_country_vdem(country, initial_year, final_year):\n",
    "    dff = df[df['Country']==country]\n",
    "    dff = dff.loc[:,['Country', 'Year', 'v2x_polyarchy', 'v2x_libdem', 'v2x_partipdem', 'v2x_delibdem', 'v2x_egaldem']]\n",
    "    dff = dff.rename(columns={'v2x_polyarchy':'Poliarchy', 'v2x_libdem':'Liberal democracy',\n",
    "                              'v2x_partipdem':'Participatory democracy', 'v2x_delibdem':'Deliberative democracy',\n",
    "                              'v2x_egaldem':'Egalitarian democracy'})\n",
    "    dff = dff.drop(['Country'], axis=1)\n",
    "    dff['Year'] = pd.to_datetime(dff['Year'], format='%Y').dt.to_period('Y')\n",
    "    dff = dff.set_index('Year')\n",
    "    dff = dff[(dff.index >=initial_year) & (dff.index <= final_year)]\n",
    "    dff = dff.T\n",
    "    dff['VAR'] = ((dff[final_year] - dff[initial_year])/dff[initial_year])*100\n",
    "    #dff = dff.sort_values(by='VAR', ascending=False)\n",
    "    \n",
    "        \n",
    "    return dff"
   ]
  },
  {
   "cell_type": "code",
   "execution_count": 100,
   "metadata": {},
   "outputs": [],
   "source": [
    "radar_3 = f_country_vdem('Argentina', '2007', '2012')"
   ]
  },
  {
   "cell_type": "code",
   "execution_count": 101,
   "metadata": {},
   "outputs": [],
   "source": [
    "radar_4 = f_country_vdem('Argentina', '2012', '2017')"
   ]
  },
  {
   "cell_type": "code",
   "execution_count": 102,
   "metadata": {},
   "outputs": [],
   "source": [
    "# Normalize the Data\n",
    "scaler = MinMaxScaler(feature_range=(-1, 1))\n",
    "columns = ['VAR']\n",
    "radar_3[columns] = scaler.fit_transform(radar_3.loc[:,columns])\n",
    "radar_4[columns] = scaler.fit_transform(radar_4.loc[:,columns])"
   ]
  },
  {
   "cell_type": "code",
   "execution_count": 103,
   "metadata": {},
   "outputs": [
    {
     "data": {
      "text/plain": [
       "'temp-plot.html'"
      ]
     },
     "execution_count": 103,
     "metadata": {},
     "output_type": "execute_result"
    }
   ],
   "source": [
    "fig = go.Figure()\n",
    "\n",
    "fig.add_trace(go.Scatterpolar(\n",
    "      r=radar_3['VAR'],\n",
    "      theta=radar_3.index,\n",
    "      fill='toself',\n",
    "      name='2007 - 2012'\n",
    "))\n",
    "\n",
    "fig.add_trace(go.Scatterpolar(\n",
    "      r=radar_4['VAR'],\n",
    "      theta=radar_4.index,\n",
    "      fill='toself',\n",
    "      name='2012 - 2017'\n",
    "))\n",
    "\n",
    "\n",
    "fig.update_layout(\n",
    "  polar=dict(\n",
    "    radialaxis=dict(\n",
    "      visible=True,\n",
    "      range=[-20, 5]\n",
    "    )),\n",
    "  showlegend=True, legend=dict(x=0.75, y=-0.1)\n",
    ")\n",
    "\n",
    "\n",
    "pyo.plot(fig)"
   ]
  },
  {
   "cell_type": "markdown",
   "metadata": {},
   "source": [
    "# Part 2: Classification"
   ]
  },
  {
   "cell_type": "code",
   "execution_count": 203,
   "metadata": {},
   "outputs": [
    {
     "data": {
      "text/html": [
       "<div>\n",
       "<style scoped>\n",
       "    .dataframe tbody tr th:only-of-type {\n",
       "        vertical-align: middle;\n",
       "    }\n",
       "\n",
       "    .dataframe tbody tr th {\n",
       "        vertical-align: top;\n",
       "    }\n",
       "\n",
       "    .dataframe thead th {\n",
       "        text-align: right;\n",
       "    }\n",
       "</style>\n",
       "<table border=\"1\" class=\"dataframe\">\n",
       "  <thead>\n",
       "    <tr style=\"text-align: right;\">\n",
       "      <th></th>\n",
       "      <th>Country</th>\n",
       "      <th>Year</th>\n",
       "      <th>FSI</th>\n",
       "      <th>C1: Security Apparatus</th>\n",
       "      <th>C2: Factionalized Elites</th>\n",
       "      <th>C3: Group Grievance</th>\n",
       "      <th>E1: Economy</th>\n",
       "      <th>E2: Economic Inequality</th>\n",
       "      <th>E3: Human Flight and Brain Drain</th>\n",
       "      <th>P1: State Legitimacy</th>\n",
       "      <th>...</th>\n",
       "      <th>S1: Demographic Pressures</th>\n",
       "      <th>S2: Refugees and IDPs</th>\n",
       "      <th>X1: External Intervention</th>\n",
       "      <th>v2x_polyarchy</th>\n",
       "      <th>v2x_libdem</th>\n",
       "      <th>v2x_partipdem</th>\n",
       "      <th>v2x_delibdem</th>\n",
       "      <th>v2x_egaldem</th>\n",
       "      <th>VDem</th>\n",
       "      <th>HDI</th>\n",
       "    </tr>\n",
       "  </thead>\n",
       "  <tbody>\n",
       "    <tr>\n",
       "      <th>807</th>\n",
       "      <td>Zimbabwe</td>\n",
       "      <td>2013</td>\n",
       "      <td>105.20</td>\n",
       "      <td>8.40</td>\n",
       "      <td>9.70</td>\n",
       "      <td>8.40</td>\n",
       "      <td>8.60</td>\n",
       "      <td>8.60</td>\n",
       "      <td>8.60</td>\n",
       "      <td>9.20</td>\n",
       "      <td>...</td>\n",
       "      <td>9.20</td>\n",
       "      <td>8.70</td>\n",
       "      <td>7.80</td>\n",
       "      <td>0.30</td>\n",
       "      <td>0.20</td>\n",
       "      <td>0.19</td>\n",
       "      <td>0.17</td>\n",
       "      <td>0.15</td>\n",
       "      <td>0.20</td>\n",
       "      <td>0.52</td>\n",
       "    </tr>\n",
       "    <tr>\n",
       "      <th>1435</th>\n",
       "      <td>Zimbabwe</td>\n",
       "      <td>2014</td>\n",
       "      <td>102.80</td>\n",
       "      <td>8.10</td>\n",
       "      <td>10.00</td>\n",
       "      <td>8.10</td>\n",
       "      <td>8.30</td>\n",
       "      <td>8.30</td>\n",
       "      <td>8.30</td>\n",
       "      <td>9.30</td>\n",
       "      <td>...</td>\n",
       "      <td>8.90</td>\n",
       "      <td>8.40</td>\n",
       "      <td>7.70</td>\n",
       "      <td>0.30</td>\n",
       "      <td>0.20</td>\n",
       "      <td>0.16</td>\n",
       "      <td>0.19</td>\n",
       "      <td>0.16</td>\n",
       "      <td>0.20</td>\n",
       "      <td>0.53</td>\n",
       "    </tr>\n",
       "    <tr>\n",
       "      <th>1407</th>\n",
       "      <td>Zimbabwe</td>\n",
       "      <td>2015</td>\n",
       "      <td>100.00</td>\n",
       "      <td>7.90</td>\n",
       "      <td>9.70</td>\n",
       "      <td>7.80</td>\n",
       "      <td>8.00</td>\n",
       "      <td>8.10</td>\n",
       "      <td>8.00</td>\n",
       "      <td>9.00</td>\n",
       "      <td>...</td>\n",
       "      <td>8.70</td>\n",
       "      <td>8.40</td>\n",
       "      <td>7.60</td>\n",
       "      <td>0.31</td>\n",
       "      <td>0.20</td>\n",
       "      <td>0.16</td>\n",
       "      <td>0.19</td>\n",
       "      <td>0.16</td>\n",
       "      <td>0.20</td>\n",
       "      <td>0.53</td>\n",
       "    </tr>\n",
       "    <tr>\n",
       "      <th>673</th>\n",
       "      <td>Zimbabwe</td>\n",
       "      <td>2016</td>\n",
       "      <td>100.50</td>\n",
       "      <td>7.80</td>\n",
       "      <td>9.80</td>\n",
       "      <td>7.50</td>\n",
       "      <td>8.30</td>\n",
       "      <td>8.20</td>\n",
       "      <td>8.10</td>\n",
       "      <td>8.90</td>\n",
       "      <td>...</td>\n",
       "      <td>8.60</td>\n",
       "      <td>8.70</td>\n",
       "      <td>7.70</td>\n",
       "      <td>0.30</td>\n",
       "      <td>0.19</td>\n",
       "      <td>0.18</td>\n",
       "      <td>0.15</td>\n",
       "      <td>0.13</td>\n",
       "      <td>0.19</td>\n",
       "      <td>0.53</td>\n",
       "    </tr>\n",
       "    <tr>\n",
       "      <th>1181</th>\n",
       "      <td>Zimbabwe</td>\n",
       "      <td>2017</td>\n",
       "      <td>101.60</td>\n",
       "      <td>8.10</td>\n",
       "      <td>9.80</td>\n",
       "      <td>7.30</td>\n",
       "      <td>8.60</td>\n",
       "      <td>8.50</td>\n",
       "      <td>7.90</td>\n",
       "      <td>9.20</td>\n",
       "      <td>...</td>\n",
       "      <td>9.10</td>\n",
       "      <td>8.50</td>\n",
       "      <td>7.50</td>\n",
       "      <td>0.31</td>\n",
       "      <td>0.22</td>\n",
       "      <td>0.20</td>\n",
       "      <td>0.19</td>\n",
       "      <td>0.16</td>\n",
       "      <td>0.22</td>\n",
       "      <td>0.54</td>\n",
       "    </tr>\n",
       "  </tbody>\n",
       "</table>\n",
       "<p>5 rows × 22 columns</p>\n",
       "</div>"
      ],
      "text/plain": [
       "       Country  Year    FSI  C1: Security Apparatus  C2: Factionalized Elites  \\\n",
       "807   Zimbabwe  2013 105.20                    8.40                      9.70   \n",
       "1435  Zimbabwe  2014 102.80                    8.10                     10.00   \n",
       "1407  Zimbabwe  2015 100.00                    7.90                      9.70   \n",
       "673   Zimbabwe  2016 100.50                    7.80                      9.80   \n",
       "1181  Zimbabwe  2017 101.60                    8.10                      9.80   \n",
       "\n",
       "      C3: Group Grievance  E1: Economy  E2: Economic Inequality  \\\n",
       "807                  8.40         8.60                     8.60   \n",
       "1435                 8.10         8.30                     8.30   \n",
       "1407                 7.80         8.00                     8.10   \n",
       "673                  7.50         8.30                     8.20   \n",
       "1181                 7.30         8.60                     8.50   \n",
       "\n",
       "      E3: Human Flight and Brain Drain  P1: State Legitimacy  ...  \\\n",
       "807                               8.60                  9.20  ...   \n",
       "1435                              8.30                  9.30  ...   \n",
       "1407                              8.00                  9.00  ...   \n",
       "673                               8.10                  8.90  ...   \n",
       "1181                              7.90                  9.20  ...   \n",
       "\n",
       "      S1: Demographic Pressures  S2: Refugees and IDPs  \\\n",
       "807                        9.20                   8.70   \n",
       "1435                       8.90                   8.40   \n",
       "1407                       8.70                   8.40   \n",
       "673                        8.60                   8.70   \n",
       "1181                       9.10                   8.50   \n",
       "\n",
       "      X1: External Intervention  v2x_polyarchy  v2x_libdem  v2x_partipdem  \\\n",
       "807                        7.80           0.30        0.20           0.19   \n",
       "1435                       7.70           0.30        0.20           0.16   \n",
       "1407                       7.60           0.31        0.20           0.16   \n",
       "673                        7.70           0.30        0.19           0.18   \n",
       "1181                       7.50           0.31        0.22           0.20   \n",
       "\n",
       "      v2x_delibdem  v2x_egaldem  VDem  HDI  \n",
       "807           0.17         0.15  0.20 0.52  \n",
       "1435          0.19         0.16  0.20 0.53  \n",
       "1407          0.19         0.16  0.20 0.53  \n",
       "673           0.15         0.13  0.19 0.53  \n",
       "1181          0.19         0.16  0.22 0.54  \n",
       "\n",
       "[5 rows x 22 columns]"
      ]
     },
     "execution_count": 203,
     "metadata": {},
     "output_type": "execute_result"
    }
   ],
   "source": [
    "df.tail()"
   ]
  },
  {
   "cell_type": "code",
   "execution_count": 204,
   "metadata": {},
   "outputs": [],
   "source": [
    "df_norm = df[['Country', 'Year', 'FSI', 'VDem', 'HDI']]\n",
    "\n",
    "\n",
    "# Clean the Data\n",
    "df_norm = df_norm.loc[df['Year']==2007]\n",
    "df_norm = df_norm.drop(['Year'], axis=1)\n",
    "df_norm = df_norm.set_index('Country')\n",
    "\n",
    "# Normalize the Data\n",
    "X = df_norm.values[:,1:]\n",
    "X = np.nan_to_num(X)\n",
    "Clus_dataSet = StandardScaler().fit_transform(X)"
   ]
  },
  {
   "cell_type": "code",
   "execution_count": 205,
   "metadata": {},
   "outputs": [],
   "source": [
    "clusterNum = 5\n",
    "k_means = KMeans(init = \"k-means++\", n_clusters = clusterNum, n_init = 12)\n",
    "k_means.fit(X)\n",
    "labels = k_means.labels_"
   ]
  },
  {
   "cell_type": "code",
   "execution_count": 206,
   "metadata": {},
   "outputs": [],
   "source": [
    "df_norm[\"Clus_km\"] = labels"
   ]
  },
  {
   "cell_type": "code",
   "execution_count": 207,
   "metadata": {},
   "outputs": [
    {
     "data": {
      "text/html": [
       "<div>\n",
       "<style scoped>\n",
       "    .dataframe tbody tr th:only-of-type {\n",
       "        vertical-align: middle;\n",
       "    }\n",
       "\n",
       "    .dataframe tbody tr th {\n",
       "        vertical-align: top;\n",
       "    }\n",
       "\n",
       "    .dataframe thead th {\n",
       "        text-align: right;\n",
       "    }\n",
       "</style>\n",
       "<table border=\"1\" class=\"dataframe\">\n",
       "  <thead>\n",
       "    <tr style=\"text-align: right;\">\n",
       "      <th></th>\n",
       "      <th>FSI</th>\n",
       "      <th>VDem</th>\n",
       "      <th>HDI</th>\n",
       "      <th>Clus_km</th>\n",
       "    </tr>\n",
       "    <tr>\n",
       "      <th>Country</th>\n",
       "      <th></th>\n",
       "      <th></th>\n",
       "      <th></th>\n",
       "      <th></th>\n",
       "    </tr>\n",
       "  </thead>\n",
       "  <tbody>\n",
       "    <tr>\n",
       "      <th>Afghanistan</th>\n",
       "      <td>102.30</td>\n",
       "      <td>0.26</td>\n",
       "      <td>0.43</td>\n",
       "      <td>1</td>\n",
       "    </tr>\n",
       "    <tr>\n",
       "      <th>Albania</th>\n",
       "      <td>70.50</td>\n",
       "      <td>0.45</td>\n",
       "      <td>0.72</td>\n",
       "      <td>0</td>\n",
       "    </tr>\n",
       "    <tr>\n",
       "      <th>Algeria</th>\n",
       "      <td>75.90</td>\n",
       "      <td>0.23</td>\n",
       "      <td>0.71</td>\n",
       "      <td>2</td>\n",
       "    </tr>\n",
       "    <tr>\n",
       "      <th>Angola</th>\n",
       "      <td>84.90</td>\n",
       "      <td>0.11</td>\n",
       "      <td>0.49</td>\n",
       "      <td>1</td>\n",
       "    </tr>\n",
       "    <tr>\n",
       "      <th>Argentina</th>\n",
       "      <td>41.40</td>\n",
       "      <td>0.64</td>\n",
       "      <td>0.79</td>\n",
       "      <td>3</td>\n",
       "    </tr>\n",
       "  </tbody>\n",
       "</table>\n",
       "</div>"
      ],
      "text/plain": [
       "               FSI  VDem  HDI  Clus_km\n",
       "Country                               \n",
       "Afghanistan 102.30  0.26 0.43        1\n",
       "Albania      70.50  0.45 0.72        0\n",
       "Algeria      75.90  0.23 0.71        2\n",
       "Angola       84.90  0.11 0.49        1\n",
       "Argentina    41.40  0.64 0.79        3"
      ]
     },
     "execution_count": 207,
     "metadata": {},
     "output_type": "execute_result"
    }
   ],
   "source": [
    "df_norm.head()"
   ]
  },
  {
   "cell_type": "code",
   "execution_count": 208,
   "metadata": {},
   "outputs": [],
   "source": [
    "def f_scatter_variables(V1, V2):    \n",
    "    \n",
    "    dff = df_norm\n",
    "    dff.reset_index(inplace=True)\n",
    "\n",
    "    fig = px.scatter(dff, x=V1, y=V2,\n",
    "                     color='Clus_km', hover_name='Country')\n",
    "\n",
    "  \n",
    "    fig.update_layout(title=go.layout.Title(text='FSI'), showlegend=False)\n",
    "\n",
    "    pyo.plot(fig)   "
   ]
  },
  {
   "cell_type": "code",
   "execution_count": 209,
   "metadata": {},
   "outputs": [
    {
     "data": {
      "text/plain": [
       "Index(['FSI', 'VDem', 'HDI', 'Clus_km'], dtype='object')"
      ]
     },
     "execution_count": 209,
     "metadata": {},
     "output_type": "execute_result"
    }
   ],
   "source": [
    "df_norm.columns"
   ]
  },
  {
   "cell_type": "code",
   "execution_count": 211,
   "metadata": {},
   "outputs": [],
   "source": [
    "f_scatter_variables('HDI', 'FSI')"
   ]
  },
  {
   "cell_type": "code",
   "execution_count": 197,
   "metadata": {},
   "outputs": [],
   "source": [
    "f_scatter_variables('HDI', 'VDem')"
   ]
  },
  {
   "cell_type": "markdown",
   "metadata": {},
   "source": [
    "# Cluster groups"
   ]
  },
  {
   "cell_type": "code",
   "execution_count": 198,
   "metadata": {},
   "outputs": [
    {
     "data": {
      "text/plain": [
       "array(['Algeria', 'Azerbaijan', 'Belarus', 'China', 'Cuba', 'Egypt',\n",
       "       'Equatorial Guinea', 'Gabon', 'Kazakhstan', 'Libya', 'Malaysia',\n",
       "       'Morocco', 'Saudi Arabia', 'Tajikistan', 'Thailand', 'Tunisia',\n",
       "       'Uzbekistan', 'Venezuela'], dtype=object)"
      ]
     },
     "execution_count": 198,
     "metadata": {},
     "output_type": "execute_result"
    }
   ],
   "source": [
    "cluster_0 = df_norm.loc[df_norm['Clus_km']==0]\n",
    "cluster_0['Country'] .unique()"
   ]
  },
  {
   "cell_type": "code",
   "execution_count": 199,
   "metadata": {},
   "outputs": [
    {
     "data": {
      "text/plain": [
       "array(['Afghanistan', 'Angola', 'Bangladesh', 'Bhutan', 'Burundi',\n",
       "       'Cameroon', 'Central African Republic', 'Chad', 'Eritrea',\n",
       "       'Ethiopia', 'Guinea', 'Haiti', 'Mauritania', 'Nepal', 'Nigeria',\n",
       "       'Pakistan', 'Rwanda', 'Sudan', 'Togo', 'Turkmenistan', 'Uganda',\n",
       "       'Yemen', 'Zimbabwe'], dtype=object)"
      ]
     },
     "execution_count": 199,
     "metadata": {},
     "output_type": "execute_result"
    }
   ],
   "source": [
    "cluster_1 = df_norm.loc[df_norm['Clus_km']==1]\n",
    "cluster_1['Country'] .unique() "
   ]
  },
  {
   "cell_type": "code",
   "execution_count": 200,
   "metadata": {},
   "outputs": [
    {
     "data": {
      "text/plain": [
       "array(['Argentina', 'Australia', 'Belgium', 'Brazil', 'Costa Rica',\n",
       "       'Denmark', 'France', 'Hungary', 'Latvia', 'Lithuania', 'Poland',\n",
       "       'United Kingdom'], dtype=object)"
      ]
     },
     "execution_count": 200,
     "metadata": {},
     "output_type": "execute_result"
    }
   ],
   "source": [
    "cluster_2 = df_norm.loc[df_norm['Clus_km']==2]\n",
    "cluster_2['Country'] .unique() "
   ]
  },
  {
   "cell_type": "code",
   "execution_count": 201,
   "metadata": {},
   "outputs": [
    {
     "data": {
      "text/plain": [
       "array(['Albania', 'Bolivia', 'Bosnia and Herzegovina', 'Botswana',\n",
       "       'Bulgaria', 'Colombia', 'Dominican Republic', 'Ecuador',\n",
       "       'El Salvador', 'Guatemala', 'Honduras', 'India', 'Indonesia',\n",
       "       'Iraq', 'Lebanon', 'Mexico', 'Paraguay', 'Peru', 'Philippines',\n",
       "       'Turkey', 'Ukraine'], dtype=object)"
      ]
     },
     "execution_count": 201,
     "metadata": {},
     "output_type": "execute_result"
    }
   ],
   "source": [
    "cluster_3 = df_norm.loc[df_norm['Clus_km']==3]\n",
    "cluster_3['Country'] .unique() "
   ]
  },
  {
   "cell_type": "code",
   "execution_count": 202,
   "metadata": {},
   "outputs": [
    {
     "data": {
      "text/plain": [
       "array(['Benin', 'Burkina Faso', 'Kenya', 'Liberia', 'Malawi',\n",
       "       'Mozambique', 'Sierra Leone', 'Zambia'], dtype=object)"
      ]
     },
     "execution_count": 202,
     "metadata": {},
     "output_type": "execute_result"
    }
   ],
   "source": [
    "cluster_4 = df_norm.loc[df_norm['Clus_km']==4]\n",
    "cluster_4['Country'] .unique()"
   ]
  },
  {
   "cell_type": "code",
   "execution_count": 177,
   "metadata": {},
   "outputs": [
    {
     "data": {
      "text/html": [
       "<div>\n",
       "<style scoped>\n",
       "    .dataframe tbody tr th:only-of-type {\n",
       "        vertical-align: middle;\n",
       "    }\n",
       "\n",
       "    .dataframe tbody tr th {\n",
       "        vertical-align: top;\n",
       "    }\n",
       "\n",
       "    .dataframe thead th {\n",
       "        text-align: right;\n",
       "    }\n",
       "</style>\n",
       "<table border=\"1\" class=\"dataframe\">\n",
       "  <thead>\n",
       "    <tr style=\"text-align: right;\">\n",
       "      <th></th>\n",
       "      <th>index</th>\n",
       "      <th>FSI</th>\n",
       "      <th>VDem</th>\n",
       "      <th>HDI</th>\n",
       "      <th>Clus_km</th>\n",
       "    </tr>\n",
       "  </thead>\n",
       "  <tbody>\n",
       "    <tr>\n",
       "      <th>count</th>\n",
       "      <td>32.00</td>\n",
       "      <td>32.00</td>\n",
       "      <td>32.00</td>\n",
       "      <td>32.00</td>\n",
       "      <td>32.00</td>\n",
       "    </tr>\n",
       "    <tr>\n",
       "      <th>mean</th>\n",
       "      <td>81.88</td>\n",
       "      <td>71.33</td>\n",
       "      <td>0.19</td>\n",
       "      <td>0.76</td>\n",
       "      <td>2.00</td>\n",
       "    </tr>\n",
       "    <tr>\n",
       "      <th>std</th>\n",
       "      <td>45.98</td>\n",
       "      <td>14.73</td>\n",
       "      <td>0.09</td>\n",
       "      <td>0.07</td>\n",
       "      <td>0.00</td>\n",
       "    </tr>\n",
       "    <tr>\n",
       "      <th>min</th>\n",
       "      <td>2.00</td>\n",
       "      <td>32.50</td>\n",
       "      <td>0.04</td>\n",
       "      <td>0.65</td>\n",
       "      <td>2.00</td>\n",
       "    </tr>\n",
       "    <tr>\n",
       "      <th>25%</th>\n",
       "      <td>46.75</td>\n",
       "      <td>65.28</td>\n",
       "      <td>0.11</td>\n",
       "      <td>0.71</td>\n",
       "      <td>2.00</td>\n",
       "    </tr>\n",
       "    <tr>\n",
       "      <th>50%</th>\n",
       "      <td>85.50</td>\n",
       "      <td>74.20</td>\n",
       "      <td>0.18</td>\n",
       "      <td>0.76</td>\n",
       "      <td>2.00</td>\n",
       "    </tr>\n",
       "    <tr>\n",
       "      <th>75%</th>\n",
       "      <td>120.75</td>\n",
       "      <td>77.73</td>\n",
       "      <td>0.27</td>\n",
       "      <td>0.80</td>\n",
       "      <td>2.00</td>\n",
       "    </tr>\n",
       "    <tr>\n",
       "      <th>max</th>\n",
       "      <td>143.00</td>\n",
       "      <td>105.40</td>\n",
       "      <td>0.35</td>\n",
       "      <td>0.93</td>\n",
       "      <td>2.00</td>\n",
       "    </tr>\n",
       "  </tbody>\n",
       "</table>\n",
       "</div>"
      ],
      "text/plain": [
       "       index    FSI  VDem   HDI  Clus_km\n",
       "count  32.00  32.00 32.00 32.00    32.00\n",
       "mean   81.88  71.33  0.19  0.76     2.00\n",
       "std    45.98  14.73  0.09  0.07     0.00\n",
       "min     2.00  32.50  0.04  0.65     2.00\n",
       "25%    46.75  65.28  0.11  0.71     2.00\n",
       "50%    85.50  74.20  0.18  0.76     2.00\n",
       "75%   120.75  77.73  0.27  0.80     2.00\n",
       "max   143.00 105.40  0.35  0.93     2.00"
      ]
     },
     "execution_count": 177,
     "metadata": {},
     "output_type": "execute_result"
    }
   ],
   "source": [
    "cluster_2.describe()"
   ]
  },
  {
   "cell_type": "code",
   "execution_count": 178,
   "metadata": {},
   "outputs": [
    {
     "data": {
      "text/html": [
       "<div>\n",
       "<style scoped>\n",
       "    .dataframe tbody tr th:only-of-type {\n",
       "        vertical-align: middle;\n",
       "    }\n",
       "\n",
       "    .dataframe tbody tr th {\n",
       "        vertical-align: top;\n",
       "    }\n",
       "\n",
       "    .dataframe thead th {\n",
       "        text-align: right;\n",
       "    }\n",
       "</style>\n",
       "<table border=\"1\" class=\"dataframe\">\n",
       "  <thead>\n",
       "    <tr style=\"text-align: right;\">\n",
       "      <th></th>\n",
       "      <th>index</th>\n",
       "      <th>FSI</th>\n",
       "      <th>VDem</th>\n",
       "      <th>HDI</th>\n",
       "      <th>Clus_km</th>\n",
       "    </tr>\n",
       "  </thead>\n",
       "  <tbody>\n",
       "    <tr>\n",
       "      <th>count</th>\n",
       "      <td>33.00</td>\n",
       "      <td>33.00</td>\n",
       "      <td>33.00</td>\n",
       "      <td>33.00</td>\n",
       "      <td>33.00</td>\n",
       "    </tr>\n",
       "    <tr>\n",
       "      <th>mean</th>\n",
       "      <td>68.36</td>\n",
       "      <td>33.50</td>\n",
       "      <td>0.76</td>\n",
       "      <td>0.89</td>\n",
       "      <td>1.00</td>\n",
       "    </tr>\n",
       "    <tr>\n",
       "      <th>std</th>\n",
       "      <td>40.13</td>\n",
       "      <td>11.32</td>\n",
       "      <td>0.05</td>\n",
       "      <td>0.05</td>\n",
       "      <td>0.00</td>\n",
       "    </tr>\n",
       "    <tr>\n",
       "      <th>min</th>\n",
       "      <td>4.00</td>\n",
       "      <td>18.70</td>\n",
       "      <td>0.63</td>\n",
       "      <td>0.79</td>\n",
       "      <td>1.00</td>\n",
       "    </tr>\n",
       "    <tr>\n",
       "      <th>25%</th>\n",
       "      <td>36.00</td>\n",
       "      <td>22.60</td>\n",
       "      <td>0.73</td>\n",
       "      <td>0.87</td>\n",
       "      <td>1.00</td>\n",
       "    </tr>\n",
       "    <tr>\n",
       "      <th>50%</th>\n",
       "      <td>65.00</td>\n",
       "      <td>32.40</td>\n",
       "      <td>0.77</td>\n",
       "      <td>0.90</td>\n",
       "      <td>1.00</td>\n",
       "    </tr>\n",
       "    <tr>\n",
       "      <th>75%</th>\n",
       "      <td>95.00</td>\n",
       "      <td>41.70</td>\n",
       "      <td>0.79</td>\n",
       "      <td>0.93</td>\n",
       "      <td>1.00</td>\n",
       "    </tr>\n",
       "    <tr>\n",
       "      <th>max</th>\n",
       "      <td>141.00</td>\n",
       "      <td>62.60</td>\n",
       "      <td>0.84</td>\n",
       "      <td>0.95</td>\n",
       "      <td>1.00</td>\n",
       "    </tr>\n",
       "  </tbody>\n",
       "</table>\n",
       "</div>"
      ],
      "text/plain": [
       "       index   FSI  VDem   HDI  Clus_km\n",
       "count  33.00 33.00 33.00 33.00    33.00\n",
       "mean   68.36 33.50  0.76  0.89     1.00\n",
       "std    40.13 11.32  0.05  0.05     0.00\n",
       "min     4.00 18.70  0.63  0.79     1.00\n",
       "25%    36.00 22.60  0.73  0.87     1.00\n",
       "50%    65.00 32.40  0.77  0.90     1.00\n",
       "75%    95.00 41.70  0.79  0.93     1.00\n",
       "max   141.00 62.60  0.84  0.95     1.00"
      ]
     },
     "execution_count": 178,
     "metadata": {},
     "output_type": "execute_result"
    }
   ],
   "source": [
    "cluster_1.describe()"
   ]
  },
  {
   "cell_type": "code",
   "execution_count": 179,
   "metadata": {},
   "outputs": [
    {
     "data": {
      "text/html": [
       "<div>\n",
       "<style scoped>\n",
       "    .dataframe tbody tr th:only-of-type {\n",
       "        vertical-align: middle;\n",
       "    }\n",
       "\n",
       "    .dataframe tbody tr th {\n",
       "        vertical-align: top;\n",
       "    }\n",
       "\n",
       "    .dataframe thead th {\n",
       "        text-align: right;\n",
       "    }\n",
       "</style>\n",
       "<table border=\"1\" class=\"dataframe\">\n",
       "  <thead>\n",
       "    <tr style=\"text-align: right;\">\n",
       "      <th></th>\n",
       "      <th>index</th>\n",
       "      <th>FSI</th>\n",
       "      <th>VDem</th>\n",
       "      <th>HDI</th>\n",
       "      <th>Clus_km</th>\n",
       "    </tr>\n",
       "  </thead>\n",
       "  <tbody>\n",
       "    <tr>\n",
       "      <th>count</th>\n",
       "      <td>19.00</td>\n",
       "      <td>19.00</td>\n",
       "      <td>19.00</td>\n",
       "      <td>19.00</td>\n",
       "      <td>19.00</td>\n",
       "    </tr>\n",
       "    <tr>\n",
       "      <th>mean</th>\n",
       "      <td>74.63</td>\n",
       "      <td>86.02</td>\n",
       "      <td>0.46</td>\n",
       "      <td>0.51</td>\n",
       "      <td>0.00</td>\n",
       "    </tr>\n",
       "    <tr>\n",
       "      <th>std</th>\n",
       "      <td>34.39</td>\n",
       "      <td>8.73</td>\n",
       "      <td>0.08</td>\n",
       "      <td>0.08</td>\n",
       "      <td>0.00</td>\n",
       "    </tr>\n",
       "    <tr>\n",
       "      <th>min</th>\n",
       "      <td>14.00</td>\n",
       "      <td>69.70</td>\n",
       "      <td>0.34</td>\n",
       "      <td>0.35</td>\n",
       "      <td>0.00</td>\n",
       "    </tr>\n",
       "    <tr>\n",
       "      <th>25%</th>\n",
       "      <td>56.50</td>\n",
       "      <td>79.80</td>\n",
       "      <td>0.40</td>\n",
       "      <td>0.44</td>\n",
       "      <td>0.00</td>\n",
       "    </tr>\n",
       "    <tr>\n",
       "      <th>50%</th>\n",
       "      <td>80.00</td>\n",
       "      <td>88.00</td>\n",
       "      <td>0.45</td>\n",
       "      <td>0.52</td>\n",
       "      <td>0.00</td>\n",
       "    </tr>\n",
       "    <tr>\n",
       "      <th>75%</th>\n",
       "      <td>97.50</td>\n",
       "      <td>91.95</td>\n",
       "      <td>0.52</td>\n",
       "      <td>0.58</td>\n",
       "      <td>0.00</td>\n",
       "    </tr>\n",
       "    <tr>\n",
       "      <th>max</th>\n",
       "      <td>120.00</td>\n",
       "      <td>101.60</td>\n",
       "      <td>0.59</td>\n",
       "      <td>0.64</td>\n",
       "      <td>0.00</td>\n",
       "    </tr>\n",
       "  </tbody>\n",
       "</table>\n",
       "</div>"
      ],
      "text/plain": [
       "       index    FSI  VDem   HDI  Clus_km\n",
       "count  19.00  19.00 19.00 19.00    19.00\n",
       "mean   74.63  86.02  0.46  0.51     0.00\n",
       "std    34.39   8.73  0.08  0.08     0.00\n",
       "min    14.00  69.70  0.34  0.35     0.00\n",
       "25%    56.50  79.80  0.40  0.44     0.00\n",
       "50%    80.00  88.00  0.45  0.52     0.00\n",
       "75%    97.50  91.95  0.52  0.58     0.00\n",
       "max   120.00 101.60  0.59  0.64     0.00"
      ]
     },
     "execution_count": 179,
     "metadata": {},
     "output_type": "execute_result"
    }
   ],
   "source": [
    "cluster_0.describe()"
   ]
  },
  {
   "cell_type": "code",
   "execution_count": null,
   "metadata": {},
   "outputs": [],
   "source": []
  }
 ],
 "metadata": {
  "kernelspec": {
   "display_name": "Python 3",
   "language": "python",
   "name": "python3"
  },
  "language_info": {
   "codemirror_mode": {
    "name": "ipython",
    "version": 3
   },
   "file_extension": ".py",
   "mimetype": "text/x-python",
   "name": "python",
   "nbconvert_exporter": "python",
   "pygments_lexer": "ipython3",
   "version": "3.7.3"
  }
 },
 "nbformat": 4,
 "nbformat_minor": 2
}
